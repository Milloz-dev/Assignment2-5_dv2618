{
 "cells": [
  {
   "cell_type": "code",
   "execution_count": 188,
   "metadata": {},
   "outputs": [],
   "source": [
    "# Imports \n",
    "import numpy as np\n",
    "import random\n",
    "from datetime import datetime"
   ]
  },
  {
   "cell_type": "code",
   "execution_count": 189,
   "metadata": {},
   "outputs": [],
   "source": [
    "# Parameters\n",
    "n_cities = 20\n",
    "\n",
    "n_population = 10\n",
    "\n",
    "mutation_rate = 0.1"
   ]
  },
  {
   "cell_type": "code",
   "execution_count": 190,
   "metadata": {},
   "outputs": [
    {
     "data": {
      "text/plain": [
       "{np.str_('Berlin'): [np.int32(98), np.int32(86)],\n",
       " np.str_('London'): [np.int32(94), np.int32(93)],\n",
       " np.str_('Moscow'): [np.int32(19), np.int32(29)],\n",
       " np.str_('Barcelona'): [np.int32(27), np.int32(43)],\n",
       " np.str_('Rome'): [np.int32(66), np.int32(89)],\n",
       " np.str_('Paris'): [np.int32(55), np.int32(38)],\n",
       " np.str_('Vienna'): [np.int32(84), np.int32(91)],\n",
       " np.str_('Munich'): [np.int32(72), np.int32(33)],\n",
       " np.str_('Istanbul'): [np.int32(40), np.int32(15)],\n",
       " np.str_('Kyiv'): [np.int32(11), np.int32(50)],\n",
       " np.str_('Bucharest'): [np.int32(62), np.int32(70)],\n",
       " np.str_('Minsk'): [np.int32(10), np.int32(26)],\n",
       " np.str_('Warsaw'): [np.int32(79), np.int32(35)],\n",
       " np.str_('Budapest'): [np.int32(76), np.int32(79)],\n",
       " np.str_('Milan'): [np.int32(75), np.int32(32)],\n",
       " np.str_('Prague'): [np.int32(1), np.int32(28)],\n",
       " np.str_('Sofia'): [np.int32(78), np.int32(58)],\n",
       " np.str_('Birmingham'): [np.int32(70), np.int32(11)],\n",
       " np.str_('Brussels'): [np.int32(27), np.int32(74)],\n",
       " np.str_('Amsterdam'): [np.int32(73), np.int32(61)]}"
      ]
     },
     "execution_count": 190,
     "metadata": {},
     "output_type": "execute_result"
    }
   ],
   "source": [
    "# Generating a list of coordenades representing each city\n",
    "coordinates_list = [[x,y] for x,y in zip(np.random.randint(0,100,n_cities),np.random.randint(0,100,n_cities))]\n",
    "names_list = np.array(['Berlin', 'London', 'Moscow', 'Barcelona', 'Rome', 'Paris', 'Vienna', 'Munich', 'Istanbul', 'Kyiv', 'Bucharest', 'Minsk', 'Warsaw', 'Budapest', 'Milan', 'Prague', 'Sofia', 'Birmingham', 'Brussels', 'Amsterdam'])\n",
    "cities_dict = { x:y for x,y in zip(names_list,coordinates_list)}\n",
    "\n",
    "# Function to compute the distance between two points\n",
    "def compute_city_distance_coordinates(a,b):\n",
    "    return ((a[0]-b[0])**2+(a[1]-b[1])**2)**0.5\n",
    "\n",
    "def compute_city_distance_names(city_a, city_b, cities_dict):\n",
    "    return compute_city_distance_coordinates(cities_dict[city_a], cities_dict[city_b])\n",
    "\n",
    "cities_dict"
   ]
  },
  {
   "cell_type": "code",
   "execution_count": 191,
   "metadata": {},
   "outputs": [
    {
     "data": {
      "text/plain": [
       "array([['Barcelona', 'Minsk', 'Prague', 'Vienna', 'Brussels',\n",
       "        'Bucharest', 'Warsaw', 'Berlin', 'Istanbul', 'Paris',\n",
       "        'Amsterdam', 'Birmingham', 'Budapest', 'Moscow', 'Rome',\n",
       "        'Munich', 'Sofia', 'London', 'Kyiv', 'Milan'],\n",
       "       ['Kyiv', 'Vienna', 'Moscow', 'Birmingham', 'Minsk', 'Bucharest',\n",
       "        'Munich', 'London', 'Istanbul', 'Prague', 'Warsaw', 'Milan',\n",
       "        'Berlin', 'Brussels', 'Barcelona', 'Budapest', 'Rome',\n",
       "        'Amsterdam', 'Sofia', 'Paris'],\n",
       "       ['Paris', 'London', 'Milan', 'Birmingham', 'Prague', 'Munich',\n",
       "        'Kyiv', 'Warsaw', 'Budapest', 'Moscow', 'Istanbul', 'Sofia',\n",
       "        'Minsk', 'Bucharest', 'Berlin', 'Brussels', 'Amsterdam', 'Rome',\n",
       "        'Vienna', 'Barcelona'],\n",
       "       ['Munich', 'Bucharest', 'Warsaw', 'Rome', 'Birmingham', 'Berlin',\n",
       "        'Budapest', 'Moscow', 'Minsk', 'Paris', 'London', 'Sofia',\n",
       "        'Amsterdam', 'Vienna', 'Istanbul', 'Barcelona', 'Kyiv', 'Prague',\n",
       "        'Brussels', 'Milan'],\n",
       "       ['Warsaw', 'London', 'Birmingham', 'Berlin', 'Minsk', 'Amsterdam',\n",
       "        'Sofia', 'Rome', 'Bucharest', 'Vienna', 'Moscow', 'Budapest',\n",
       "        'Kyiv', 'Paris', 'Barcelona', 'Brussels', 'Munich', 'Milan',\n",
       "        'Prague', 'Istanbul'],\n",
       "       ['Minsk', 'Amsterdam', 'Kyiv', 'Bucharest', 'Prague', 'Budapest',\n",
       "        'Munich', 'Rome', 'Birmingham', 'Berlin', 'Istanbul', 'Moscow',\n",
       "        'Paris', 'Milan', 'Barcelona', 'Vienna', 'Sofia', 'Brussels',\n",
       "        'Warsaw', 'London'],\n",
       "       ['Paris', 'Kyiv', 'Birmingham', 'Budapest', 'Istanbul', 'Vienna',\n",
       "        'Brussels', 'Berlin', 'Bucharest', 'Sofia', 'London',\n",
       "        'Amsterdam', 'Warsaw', 'Moscow', 'Milan', 'Rome', 'Barcelona',\n",
       "        'Munich', 'Minsk', 'Prague'],\n",
       "       ['Vienna', 'Moscow', 'Amsterdam', 'Berlin', 'Rome', 'Istanbul',\n",
       "        'Warsaw', 'Prague', 'Barcelona', 'Munich', 'Sofia', 'Budapest',\n",
       "        'Minsk', 'London', 'Birmingham', 'Milan', 'Brussels', 'Paris',\n",
       "        'Kyiv', 'Bucharest'],\n",
       "       ['Moscow', 'Barcelona', 'Berlin', 'Istanbul', 'London', 'Munich',\n",
       "        'Kyiv', 'Prague', 'Birmingham', 'Bucharest', 'Amsterdam',\n",
       "        'Warsaw', 'Budapest', 'Minsk', 'Sofia', 'Paris', 'Milan',\n",
       "        'Vienna', 'Rome', 'Brussels'],\n",
       "       ['Berlin', 'Sofia', 'Moscow', 'Vienna', 'Brussels', 'Barcelona',\n",
       "        'Milan', 'Prague', 'Istanbul', 'Munich', 'Birmingham', 'Paris',\n",
       "        'Bucharest', 'Kyiv', 'Amsterdam', 'Rome', 'Minsk', 'Budapest',\n",
       "        'Warsaw', 'London']], dtype='<U10')"
      ]
     },
     "execution_count": 191,
     "metadata": {},
     "output_type": "execute_result"
    }
   ],
   "source": [
    "# First step: Create the first population set\n",
    "def genesis(city_list, n_population):\n",
    "\n",
    "    population_set = []\n",
    "    for i in range(n_population):\n",
    "        #Randomly generating a new solution\n",
    "        sol_i = city_list[np.random.choice(list(range(n_cities)), n_cities, replace=False)]\n",
    "        population_set.append(sol_i)\n",
    "    return np.array(population_set)\n",
    "\n",
    "population_set = genesis(names_list, n_population)\n",
    "population_set"
   ]
  },
  {
   "cell_type": "code",
   "execution_count": 192,
   "metadata": {},
   "outputs": [],
   "source": [
    "def fitness_eval(city_list, cities_dict):\n",
    "    total = 0\n",
    "    for i in range(n_cities-1):\n",
    "        a = city_list[i]\n",
    "        b = city_list[i+1]\n",
    "        total += compute_city_distance_names(a,b, cities_dict)\n",
    "    return total"
   ]
  },
  {
   "cell_type": "code",
   "execution_count": 193,
   "metadata": {},
   "outputs": [
    {
     "data": {
      "text/plain": [
       "array([1024.71785841,  980.94423863, 1054.6136841 ,  866.5386258 ,\n",
       "       1014.01734565, 1125.7990968 ,  992.27456253, 1052.48673685,\n",
       "        983.41394012,  986.93053281])"
      ]
     },
     "execution_count": 193,
     "metadata": {},
     "output_type": "execute_result"
    }
   ],
   "source": [
    "def get_all_fitnes(population_set, cities_dict):\n",
    "    fitnes_list = np.zeros(n_population)\n",
    "\n",
    "    #Looping over all solutions computing the fitness for each solution\n",
    "    for i in  range(n_population):\n",
    "        fitnes_list[i] = fitness_eval(population_set[i], cities_dict)\n",
    "\n",
    "    return fitnes_list\n",
    "\n",
    "fitnes_list = get_all_fitnes(population_set,cities_dict)\n",
    "fitnes_list"
   ]
  },
  {
   "cell_type": "code",
   "execution_count": 194,
   "metadata": {},
   "outputs": [
    {
     "data": {
      "text/plain": [
       "array(['Moscow', 'Barcelona', 'Berlin', 'Istanbul', 'London', 'Munich',\n",
       "       'Kyiv', 'Prague', 'Birmingham', 'Bucharest', 'Amsterdam', 'Warsaw',\n",
       "       'Budapest', 'Minsk', 'Sofia', 'Paris', 'Milan', 'Vienna', 'Rome',\n",
       "       'Brussels'], dtype='<U10')"
      ]
     },
     "execution_count": 194,
     "metadata": {},
     "output_type": "execute_result"
    }
   ],
   "source": [
    "def progenitor_selection(population_set,fitnes_list):\n",
    "    total_fit = fitnes_list.sum()\n",
    "    prob_list = (total_fit/fitnes_list)\n",
    "    prob_list = prob_list/prob_list.sum()\n",
    "    \n",
    "    #Notice there is the chance that a progenitor. mates with oneself\n",
    "    progenitor_list_a = np.random.choice(list(range(len(population_set))), len(population_set),p=prob_list, replace=True)\n",
    "    progenitor_list_b = np.random.choice(list(range(len(population_set))), len(population_set),p=prob_list, replace=True)\n",
    "    \n",
    "    progenitor_list_a = population_set[progenitor_list_a]\n",
    "    progenitor_list_b = population_set[progenitor_list_b]\n",
    "    \n",
    "    \n",
    "    return np.array([progenitor_list_a,progenitor_list_b])\n",
    "\n",
    "\n",
    "progenitor_list = progenitor_selection(population_set,fitnes_list)\n",
    "progenitor_list[0][2]"
   ]
  },
  {
   "cell_type": "code",
   "execution_count": 195,
   "metadata": {},
   "outputs": [
    {
     "data": {
      "text/plain": [
       "array(['Kyiv', 'Vienna', 'Moscow', 'Birmingham', 'Minsk', 'Warsaw',\n",
       "       'London', 'Berlin', 'Amsterdam', 'Sofia', 'Rome', 'Bucharest',\n",
       "       'Budapest', 'Paris', 'Barcelona', 'Brussels', 'Munich', 'Milan',\n",
       "       'Prague', 'Istanbul'], dtype='<U10')"
      ]
     },
     "execution_count": 195,
     "metadata": {},
     "output_type": "execute_result"
    }
   ],
   "source": [
    "def mate_progenitors(prog_a, prog_b):\n",
    "    offspring = prog_a[0:5]\n",
    "\n",
    "    for city in prog_b:\n",
    "\n",
    "        if not city in offspring:\n",
    "            offspring = np.concatenate((offspring,[city]))\n",
    "\n",
    "    return offspring\n",
    "            \n",
    "    \n",
    "    \n",
    "def mate_population(progenitor_list):\n",
    "    new_population_set = []\n",
    "    for i in range(progenitor_list.shape[1]):\n",
    "        prog_a, prog_b = progenitor_list[0][i], progenitor_list[1][i]\n",
    "        offspring = mate_progenitors(prog_a, prog_b)\n",
    "        new_population_set.append(offspring)\n",
    "        \n",
    "    return new_population_set\n",
    "\n",
    "new_population_set = mate_population(progenitor_list)\n",
    "new_population_set[0]"
   ]
  },
  {
   "cell_type": "code",
   "execution_count": 196,
   "metadata": {},
   "outputs": [
    {
     "data": {
      "text/plain": [
       "array(['Barcelona', 'Vienna', 'Munich', 'Birmingham', 'Minsk', 'Warsaw',\n",
       "       'London', 'Berlin', 'Amsterdam', 'Sofia', 'Rome', 'Bucharest',\n",
       "       'Budapest', 'Paris', 'Kyiv', 'Brussels', 'Moscow', 'Milan',\n",
       "       'Prague', 'Istanbul'], dtype='<U10')"
      ]
     },
     "execution_count": 196,
     "metadata": {},
     "output_type": "execute_result"
    }
   ],
   "source": [
    "def mutate_offspring(offspring):\n",
    "    for q in range(int(n_cities*mutation_rate)):\n",
    "        a = np.random.randint(0,n_cities)\n",
    "        b = np.random.randint(0,n_cities)\n",
    "\n",
    "        offspring[a], offspring[b] = offspring[b], offspring[a]\n",
    "\n",
    "    return offspring\n",
    "    \n",
    "    \n",
    "def mutate_population(new_population_set):\n",
    "    mutated_pop = []\n",
    "    for offspring in new_population_set:\n",
    "        mutated_pop.append(mutate_offspring(offspring))\n",
    "    return mutated_pop\n",
    "\n",
    "mutated_pop = mutate_population(new_population_set)\n",
    "mutated_pop[0]"
   ]
  },
  {
   "cell_type": "code",
   "execution_count": 197,
   "metadata": {},
   "outputs": [
    {
     "name": "stdout",
     "output_type": "stream",
     "text": [
      "0 inf 1008.1736621694887 06/10/24 21:55\n",
      "50 682.6591608947206 984.504784213842 06/10/24 21:55\n",
      "100 682.6591608947206 998.4441265760673 06/10/24 21:55\n",
      "150 654.7238647673684 960.167747980741 06/10/24 21:55\n",
      "200 654.7238647673684 1038.2721430191093 06/10/24 21:55\n",
      "250 634.6922450027256 997.3217046734648 06/10/24 21:55\n",
      "300 634.6922450027256 1017.3794201097404 06/10/24 21:55\n",
      "350 634.6922450027256 942.4320618101567 06/10/24 21:55\n",
      "400 634.6922450027256 967.4994686215508 06/10/24 21:55\n",
      "450 634.6922450027256 1018.0767135303304 06/10/24 21:55\n",
      "500 634.6922450027256 1018.7991946747148 06/10/24 21:55\n",
      "550 634.6922450027256 992.990232444047 06/10/24 21:55\n",
      "600 634.6922450027256 987.7076849263685 06/10/24 21:55\n",
      "650 634.6922450027256 1008.4052587500315 06/10/24 21:55\n",
      "700 634.6922450027256 1039.370627053679 06/10/24 21:55\n",
      "750 634.6922450027256 993.9953921651686 06/10/24 21:55\n",
      "800 634.6922450027256 1055.9153884315615 06/10/24 21:55\n",
      "850 634.6922450027256 1055.1352042132976 06/10/24 21:55\n",
      "900 634.6922450027256 988.570749827227 06/10/24 21:55\n",
      "950 634.6922450027256 977.2929933611597 06/10/24 21:55\n",
      "1000 634.6922450027256 962.359384412655 06/10/24 21:55\n",
      "1050 634.6922450027256 984.1184679358391 06/10/24 21:55\n",
      "1100 634.6922450027256 989.8073803639987 06/10/24 21:55\n",
      "1150 634.6922450027256 980.5888823466788 06/10/24 21:55\n",
      "1200 634.6922450027256 1019.0469940326026 06/10/24 21:55\n",
      "1250 634.6922450027256 970.7055068913927 06/10/24 21:55\n",
      "1300 634.6922450027256 1012.2870345682419 06/10/24 21:55\n",
      "1350 634.6922450027256 926.7283344395726 06/10/24 21:55\n",
      "1400 634.6922450027256 963.9381002893435 06/10/24 21:55\n",
      "1450 634.6922450027256 953.4098335442283 06/10/24 21:55\n",
      "1500 634.6922450027256 1028.010413321277 06/10/24 21:55\n",
      "1550 634.6922450027256 963.8536371830123 06/10/24 21:55\n",
      "1600 634.6922450027256 1058.1034138465816 06/10/24 21:55\n",
      "1650 634.6922450027256 984.9274609689021 06/10/24 21:55\n",
      "1700 634.6922450027256 970.6482843098304 06/10/24 21:55\n",
      "1750 634.6922450027256 986.726521743925 06/10/24 21:55\n",
      "1800 634.6922450027256 992.4401459222906 06/10/24 21:55\n",
      "1850 634.6922450027256 1005.5041178482709 06/10/24 21:55\n",
      "1900 634.6922450027256 947.1815370644172 06/10/24 21:55\n",
      "1950 634.6922450027256 990.6621605868216 06/10/24 21:55\n",
      "2000 634.6922450027256 979.432746880612 06/10/24 21:55\n",
      "2050 634.6922450027256 1018.5799177239181 06/10/24 21:55\n",
      "2100 634.6922450027256 985.5617619899798 06/10/24 21:55\n",
      "2150 634.6922450027256 934.7950376564507 06/10/24 21:55\n",
      "2200 634.6922450027256 1006.8091216176979 06/10/24 21:55\n",
      "2250 634.6922450027256 1003.1097059500016 06/10/24 21:55\n",
      "2300 634.6922450027256 978.1912803433531 06/10/24 21:55\n",
      "2350 634.6922450027256 975.8142432055777 06/10/24 21:55\n",
      "2400 634.6922450027256 988.6411247940565 06/10/24 21:55\n",
      "2450 634.6922450027256 976.2126708630014 06/10/24 21:55\n",
      "2500 634.6922450027256 978.7983653291897 06/10/24 21:55\n",
      "2550 634.6922450027256 1001.5123133750583 06/10/24 21:55\n",
      "2600 634.6922450027256 1007.2611841867181 06/10/24 21:55\n",
      "2650 634.6922450027256 1016.6353089998298 06/10/24 21:55\n",
      "2700 634.6922450027256 992.2936197706252 06/10/24 21:55\n",
      "2750 634.6922450027256 1032.9064586359243 06/10/24 21:55\n",
      "2800 634.6922450027256 989.4062655115131 06/10/24 21:55\n",
      "2850 634.6922450027256 1024.3446869389586 06/10/24 21:55\n",
      "2900 634.6922450027256 992.2297917868364 06/10/24 21:55\n",
      "2950 634.6922450027256 1023.0354562975793 06/10/24 21:55\n",
      "3000 634.6922450027256 990.7171036765909 06/10/24 21:55\n",
      "3050 634.6922450027256 1028.693879717409 06/10/24 21:55\n",
      "3100 634.6922450027256 991.5679337617963 06/10/24 21:55\n",
      "3150 634.6922450027256 953.0767855159936 06/10/24 21:55\n",
      "3200 634.6922450027256 982.0818474775506 06/10/24 21:55\n",
      "3250 634.6922450027256 959.6302766489625 06/10/24 21:55\n",
      "3300 634.6922450027256 988.9816783341041 06/10/24 21:55\n",
      "3350 634.6922450027256 1003.132553704358 06/10/24 21:55\n",
      "3400 634.6922450027256 964.2707446658069 06/10/24 21:55\n",
      "3450 634.6922450027256 995.0507812589174 06/10/24 21:55\n",
      "3500 634.6922450027256 983.9344405730866 06/10/24 21:55\n",
      "3550 634.6922450027256 1021.923481333463 06/10/24 21:55\n",
      "3600 634.6922450027256 979.078357919919 06/10/24 21:55\n",
      "3650 634.6922450027256 979.619107802657 06/10/24 21:55\n",
      "3700 634.6922450027256 991.1764465125318 06/10/24 21:55\n",
      "3750 634.6922450027256 969.5644256626231 06/10/24 21:55\n",
      "3800 634.6922450027256 993.2548704654768 06/10/24 21:55\n",
      "3850 634.6922450027256 980.841605593899 06/10/24 21:55\n",
      "3900 634.6922450027256 971.2440056206942 06/10/24 21:55\n",
      "3950 634.6922450027256 935.2025247606883 06/10/24 21:55\n",
      "4000 634.6922450027256 978.7293187225647 06/10/24 21:55\n",
      "4050 634.6922450027256 1039.4817564740874 06/10/24 21:55\n",
      "4100 634.6922450027256 1014.4201253462552 06/10/24 21:55\n",
      "4150 634.6922450027256 999.9566337317634 06/10/24 21:55\n",
      "4200 634.6922450027256 981.2089059336661 06/10/24 21:55\n",
      "4250 634.6922450027256 987.669646746885 06/10/24 21:55\n",
      "4300 634.6922450027256 1012.4370613298488 06/10/24 21:55\n",
      "4350 634.6922450027256 983.5551462943682 06/10/24 21:55\n",
      "4400 634.6922450027256 977.8725606589621 06/10/24 21:55\n",
      "4450 634.6922450027256 1015.0491621573625 06/10/24 21:55\n",
      "4500 634.6922450027256 967.2498587801887 06/10/24 21:55\n",
      "4550 634.6922450027256 1024.9531876403387 06/10/24 21:55\n",
      "4600 634.6922450027256 1080.243235980892 06/10/24 21:55\n",
      "4650 626.8664526847891 963.9130602851995 06/10/24 21:55\n",
      "4700 626.8664526847891 987.8405655389321 06/10/24 21:55\n",
      "4750 626.8664526847891 986.54808984253 06/10/24 21:55\n",
      "4800 626.8664526847891 1002.9823559556293 06/10/24 21:55\n",
      "4850 626.8664526847891 987.132913717645 06/10/24 21:55\n",
      "4900 626.8664526847891 984.1114427007878 06/10/24 21:55\n",
      "4950 626.8664526847891 966.6346854661657 06/10/24 21:55\n",
      "5000 626.8664526847891 998.3187371598627 06/10/24 21:55\n",
      "5050 626.8664526847891 971.3935616080482 06/10/24 21:55\n",
      "5100 626.8664526847891 1004.3127013258054 06/10/24 21:55\n",
      "5150 626.8664526847891 981.0900273579798 06/10/24 21:55\n",
      "5200 626.8664526847891 1014.582392805554 06/10/24 21:55\n",
      "5250 626.8664526847891 1025.4777747318612 06/10/24 21:55\n",
      "5300 626.8664526847891 1022.2486815718845 06/10/24 21:55\n",
      "5350 626.8664526847891 976.1095218554008 06/10/24 21:55\n",
      "5400 626.8664526847891 995.9418027281587 06/10/24 21:55\n",
      "5450 626.8664526847891 976.0679693824455 06/10/24 21:55\n",
      "5500 626.8664526847891 965.0546156158365 06/10/24 21:55\n",
      "5550 626.8664526847891 999.1619926179723 06/10/24 21:55\n",
      "5600 626.8664526847891 1012.5470886018945 06/10/24 21:55\n",
      "5650 626.8664526847891 918.8359923165124 06/10/24 21:55\n",
      "5700 626.8664526847891 990.1923859085016 06/10/24 21:55\n",
      "5750 626.8664526847891 1018.6102262862327 06/10/24 21:55\n",
      "5800 626.8664526847891 980.8928395607027 06/10/24 21:55\n",
      "5850 626.8664526847891 942.1623482248718 06/10/24 21:55\n",
      "5900 619.9979708096113 1012.126481130771 06/10/24 21:55\n",
      "5950 619.9979708096113 985.9211664301741 06/10/24 21:55\n",
      "6000 619.9979708096113 1018.0894878388499 06/10/24 21:55\n",
      "6050 619.9979708096113 994.3726546699006 06/10/24 21:55\n",
      "6100 619.9979708096113 1011.7482768807897 06/10/24 21:55\n",
      "6150 619.9979708096113 953.6740925800234 06/10/24 21:55\n",
      "6200 619.9979708096113 1041.320367782434 06/10/24 21:55\n",
      "6250 619.9979708096113 981.4204564638818 06/10/24 21:55\n",
      "6300 619.9979708096113 944.5782053438946 06/10/24 21:55\n",
      "6350 619.9979708096113 979.6239980448269 06/10/24 21:55\n",
      "6400 619.9979708096113 1012.7356622975628 06/10/24 21:55\n",
      "6450 619.9979708096113 955.1192177566085 06/10/24 21:55\n",
      "6500 619.9979708096113 953.9791183677614 06/10/24 21:55\n",
      "6550 619.9979708096113 980.154394040714 06/10/24 21:55\n",
      "6600 619.9979708096113 1057.1747943614566 06/10/24 21:55\n",
      "6650 619.9979708096113 1002.6064667641958 06/10/24 21:55\n",
      "6700 619.9979708096113 978.4147803829379 06/10/24 21:55\n",
      "6750 619.9979708096113 986.3276032852525 06/10/24 21:55\n",
      "6800 619.9979708096113 977.8947812007762 06/10/24 21:55\n",
      "6850 619.9979708096113 1029.5205739332189 06/10/24 21:55\n",
      "6900 619.9979708096113 927.3075796640533 06/10/24 21:55\n",
      "6950 619.9979708096113 926.9526291740488 06/10/24 21:55\n",
      "7000 619.9979708096113 977.0389738839864 06/10/24 21:55\n",
      "7050 619.9979708096113 972.9760318810377 06/10/24 21:55\n",
      "7100 619.9979708096113 974.9472488868411 06/10/24 21:55\n",
      "7150 619.9979708096113 932.898264756288 06/10/24 21:55\n",
      "7200 619.9979708096113 1008.4541621808833 06/10/24 21:55\n",
      "7250 619.9979708096113 910.9295518110897 06/10/24 21:55\n",
      "7300 619.9979708096113 982.9382979160395 06/10/24 21:55\n",
      "7350 619.9979708096113 1022.1137995141038 06/10/24 21:55\n",
      "7400 619.9979708096113 1011.1232754467779 06/10/24 21:55\n",
      "7450 619.9979708096113 920.9484368811951 06/10/24 21:55\n",
      "7500 619.9979708096113 1054.8720765494459 06/10/24 21:55\n",
      "7550 619.9979708096113 976.2565181287331 06/10/24 21:55\n",
      "7600 619.9979708096113 991.1165774639592 06/10/24 21:55\n",
      "7650 619.9979708096113 993.8481905770661 06/10/24 21:55\n",
      "7700 619.9979708096113 974.1347174378509 06/10/24 21:55\n",
      "7750 619.9979708096113 966.9044220144184 06/10/24 21:55\n",
      "7800 619.9979708096113 975.1488559583843 06/10/24 21:55\n",
      "7850 619.9979708096113 952.8947374690524 06/10/24 21:55\n",
      "7900 619.9979708096113 1003.776947041709 06/10/24 21:55\n",
      "7950 590.7319218067254 948.1201240981329 06/10/24 21:55\n",
      "8000 590.7319218067254 993.4175784900959 06/10/24 21:55\n",
      "8050 590.7319218067254 980.4604131380999 06/10/24 21:55\n",
      "8100 590.7319218067254 998.9050379774293 06/10/24 21:55\n",
      "8150 590.7319218067254 1019.1521879362903 06/10/24 21:55\n",
      "8200 590.7319218067254 1014.5533822941037 06/10/24 21:55\n",
      "8250 590.7319218067254 990.1188084498593 06/10/24 21:55\n",
      "8300 590.7319218067254 1010.0951087395626 06/10/24 21:55\n",
      "8350 590.7319218067254 997.7308777467304 06/10/24 21:55\n",
      "8400 590.7319218067254 974.8535331378395 06/10/24 21:55\n",
      "8450 590.7319218067254 1048.0710698813614 06/10/24 21:55\n",
      "8500 590.7319218067254 955.3991777019279 06/10/24 21:55\n",
      "8550 590.7319218067254 998.1991667946291 06/10/24 21:55\n",
      "8600 590.7319218067254 971.967507263325 06/10/24 21:55\n",
      "8650 590.7319218067254 947.0460527128128 06/10/24 21:55\n",
      "8700 590.7319218067254 982.5726500951614 06/10/24 21:55\n",
      "8750 590.7319218067254 994.8130793556498 06/10/24 21:55\n",
      "8800 590.7319218067254 903.5719211005214 06/10/24 21:55\n",
      "8850 590.7319218067254 972.74997266694 06/10/24 21:55\n",
      "8900 590.7319218067254 994.331343052016 06/10/24 21:55\n",
      "8950 590.7319218067254 993.7185898950526 06/10/24 21:55\n",
      "9000 590.7319218067254 939.103026759213 06/10/24 21:55\n",
      "9050 590.7319218067254 1015.7505688321262 06/10/24 21:55\n",
      "9100 590.7319218067254 1013.5708609653122 06/10/24 21:55\n",
      "9150 590.7319218067254 1024.3405655826625 06/10/24 21:55\n",
      "9200 590.7319218067254 1031.9346355991984 06/10/24 21:55\n",
      "9250 590.7319218067254 998.7179215677743 06/10/24 21:55\n",
      "9300 590.7319218067254 1012.3366129515416 06/10/24 21:55\n",
      "9350 590.7319218067254 1009.8307115862347 06/10/24 21:55\n",
      "9400 590.7319218067254 1012.0905704138913 06/10/24 21:55\n",
      "9450 590.7319218067254 965.692069759975 06/10/24 21:55\n",
      "9500 590.7319218067254 1053.6946998681428 06/10/24 21:55\n",
      "9550 590.7319218067254 948.8930421347948 06/10/24 21:55\n",
      "9600 590.7319218067254 999.3919399688873 06/10/24 21:55\n",
      "9650 590.7319218067254 1003.0022487684606 06/10/24 21:55\n",
      "9700 590.7319218067254 975.9362208802328 06/10/24 21:55\n",
      "9750 590.7319218067254 959.1374676434704 06/10/24 21:55\n",
      "9800 590.7319218067254 979.1969114342534 06/10/24 21:55\n",
      "9850 590.7319218067254 985.6962777339731 06/10/24 21:55\n",
      "9900 590.7319218067254 1001.8848821303685 06/10/24 21:55\n",
      "9950 590.7319218067254 1030.0081812269655 06/10/24 21:55\n"
     ]
    }
   ],
   "source": [
    "best_solution = [-1,np.inf,np.array([])]\n",
    "for i in range(10000):\n",
    "    if i%50==0: print(i, best_solution[1], fitnes_list.mean(), datetime.now().strftime(\"%d/%m/%y %H:%M\"))\n",
    "    fitnes_list = get_all_fitnes(mutated_pop,cities_dict)\n",
    "    \n",
    "    #Saving the best solution\n",
    "    if fitnes_list.min() < best_solution[1]:\n",
    "        best_solution[0] = i\n",
    "        best_solution[1] = fitnes_list.min()\n",
    "        best_solution[2] = np.array(mutated_pop)[fitnes_list.min() == fitnes_list]\n",
    "    \n",
    "    progenitor_list = progenitor_selection(population_set,fitnes_list)\n",
    "    new_population_set = mate_population(progenitor_list)\n",
    "    \n",
    "    mutated_pop = mutate_population(new_population_set)"
   ]
  },
  {
   "cell_type": "code",
   "execution_count": 198,
   "metadata": {},
   "outputs": [
    {
     "data": {
      "text/plain": [
       "[7929,\n",
       " np.float64(590.7319218067254),\n",
       " array([['Kyiv', 'Barcelona', 'Moscow', 'Prague', 'Minsk', 'Warsaw',\n",
       "         'London', 'Berlin', 'Amsterdam', 'Sofia', 'Rome', 'Bucharest',\n",
       "         'Budapest', 'Paris', 'Vienna', 'Brussels', 'Munich', 'Milan',\n",
       "         'Birmingham', 'Istanbul']], dtype='<U10')]"
      ]
     },
     "execution_count": 198,
     "metadata": {},
     "output_type": "execute_result"
    }
   ],
   "source": [
    "best_solution"
   ]
  },
  {
   "cell_type": "code",
   "execution_count": null,
   "metadata": {},
   "outputs": [],
   "source": []
  }
 ],
 "metadata": {
  "kernelspec": {
   "display_name": "Python 3",
   "language": "python",
   "name": "python3"
  },
  "language_info": {
   "codemirror_mode": {
    "name": "ipython",
    "version": 3
   },
   "file_extension": ".py",
   "mimetype": "text/x-python",
   "name": "python",
   "nbconvert_exporter": "python",
   "pygments_lexer": "ipython3",
   "version": "3.12.6"
  }
 },
 "nbformat": 4,
 "nbformat_minor": 2
}
